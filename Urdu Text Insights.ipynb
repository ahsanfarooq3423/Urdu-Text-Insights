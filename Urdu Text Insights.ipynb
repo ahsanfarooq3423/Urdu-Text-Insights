{
 "cells": [
  {
   "cell_type": "code",
   "execution_count": 16,
   "metadata": {},
   "outputs": [],
   "source": [
    "import nltk\n",
    "import matplotlib.pyplot as plt\n",
    "from urllib import request\n",
    "from bs4 import BeautifulSoup\n",
    "from nltk import word_tokenize\n",
    "import os\n",
    "os.chdir(r'C:\\Users\\Ahsan\\Desktop')\n",
    "\n",
    "raw = open('urdu.txt', encoding = 'utf8')\n",
    "\n",
    "\n",
    "#url = \"https://www.bbc.com/urdu/world-49041252\"\n",
    "#html = request.urlopen(url).read().decode('utf8')\n",
    "\n",
    "#raw = BeautifulSoup(html, 'html.parser').get_text()\n",
    "tokens = word_tokenize(raw.read())\n",
    "len(tokens)\n",
    "\n",
    "tokens = tokens[:100000]\n",
    "#tokens = set(tokens)"
   ]
  },
  {
   "cell_type": "code",
   "execution_count": 2,
   "metadata": {},
   "outputs": [],
   "source": [
    "# The data for this book can be downloaded from Urdu corpus:\n",
    "#http://urdu-corpus.blogspot.com/search/label/urdu%20corpus%20package"
   ]
  },
  {
   "cell_type": "markdown",
   "metadata": {},
   "source": [
    "<h1> Lexical Dispersion Plot </h1>"
   ]
  },
  {
   "cell_type": "code",
   "execution_count": 19,
   "metadata": {
    "scrolled": true
   },
   "outputs": [
    {
     "data": {
      "image/png": "[encoded data removed]",
      "text/plain": [
       "<Figure size 432x288 with 1 Axes>"
      ]
     },
     "metadata": {
      "needs_background": "light"
     },
     "output_type": "display_data"
    }
   ],
   "source": [
    "urdu1 = nltk.Text(tokens)\n",
    "type(urdu1)\n",
    "#target = [\"ڈونلڈ ٹرمپ\", \"امریکی\",\"پاکستان\"]\n",
    "target = ['پاکستان','سائنس','انگریزی','انٹرنیٹ','تحقیق','مسلمان','مذہب']\n",
    "urdu1.dispersion_plot(target)"
   ]
  },
  {
   "cell_type": "markdown",
   "metadata": {},
   "source": [
    "<h1>Lexical Diversity</h1>"
   ]
  },
  {
   "cell_type": "code",
   "execution_count": 23,
   "metadata": {},
   "outputs": [
    {
     "name": "stdout",
     "output_type": "stream",
     "text": [
      "The Lexical Diversity of the given text is: 15.403%\n"
     ]
    }
   ],
   "source": [
    "def lexical_diversity(text):\n",
    "    return (\"The Lexical Diversity of the given text is: \" + str((len(set(text)) / len(text)) * 100) + ' %')\n",
    "\n",
    "\n",
    "print(lexical_diversity(urdu1))\n"
   ]
  },
  {
   "cell_type": "markdown",
   "metadata": {},
   "source": [
    "<h1>Plotting the Frequency of Different Words</h1>"
   ]
  },
  {
   "cell_type": "code",
   "execution_count": 28,
   "metadata": {
    "scrolled": true
   },
   "outputs": [],
   "source": [
    "freqDist = nltk.FreqDist(urdu1)\n",
    "\n",
    "freq = { \"Pakistan\" : freqDist['پاکستان'],\"Science\":freqDist['سائنس'], 'English': freqDist['انگریزی'],'Internet': freqDist['انٹرنیٹ'],'Research':freqDist['تحقیق'],'Muslim': freqDist['مسلمان'],'Religion':freqDist['مذہب']}"
   ]
  },
  {
   "cell_type": "code",
   "execution_count": 29,
   "metadata": {},
   "outputs": [
    {
     "data": {
      "text/plain": [
       "([<matplotlib.axis.XTick at 0x1c9b5a5a588>,\n",
       "  <matplotlib.axis.XTick at 0x1c9b5a5a710>,\n",
       "  <matplotlib.axis.XTick at 0x1c9b5a5a2e8>,\n",
       "  <matplotlib.axis.XTick at 0x1c9b57b1b70>,\n",
       "  <matplotlib.axis.XTick at 0x1c9b57b1e80>,\n",
       "  <matplotlib.axis.XTick at 0x1c9b57cf2b0>,\n",
       "  <matplotlib.axis.XTick at 0x1c9b57cf860>],\n",
       " <a list of 7 Text xticklabel objects>)"
      ]
     },
     "execution_count": 29,
     "metadata": {},
     "output_type": "execute_result"
    },
    {
     "data": {
      "image/png": "[encoded data removed]",
      "text/plain": [
       "<Figure size 432x288 with 1 Axes>"
      ]
     },
     "metadata": {
      "needs_background": "light"
     },
     "output_type": "display_data"
    }
   ],
   "source": [
    "plt.bar(range(len(freq)), freq.values(), align= 'center')\n",
    "plt.xticks(range(len(freq)) , list(freq.keys()))"
   ]
  },
  {
   "cell_type": "code",
   "execution_count": null,
   "metadata": {},
   "outputs": [],
   "source": []
  }
 ],
 "metadata": {
  "kernelspec": {
   "display_name": "Python 3",
   "language": "python",
   "name": "python3"
  },
  "language_info": {
   "codemirror_mode": {
    "name": "ipython",
    "version": 3
   },
   "file_extension": ".py",
   "mimetype": "text/x-python",
   "name": "python",
   "nbconvert_exporter": "python",
   "pygments_lexer": "ipython3",
   "version": "3.7.1"
  }
 },
 "nbformat": 4,
 "nbformat_minor": 2
}
